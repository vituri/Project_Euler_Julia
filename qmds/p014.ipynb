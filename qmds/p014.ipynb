{
  "cells": [
    {
      "cell_type": "markdown",
      "metadata": {},
      "source": [
        "# Problem 14 {.unnumbered}\n",
        "\n",
        "::: {.callout-note icon=false}\n",
        "## Problem\n",
        "\n",
        "<p>The following iterative sequence is defined for the set of positive integers:</p>\n",
        "<ul style=\"list-style-type:none;\">\n",
        "<li>$n \\to n/2$ ($n$ is even)</li>\n",
        "<li>$n \\to 3n + 1$ ($n$ is odd)</li></ul>\n",
        "<p>Using the rule above and starting with $13$, we generate the following sequence:\n",
        "$13 \\to 40 \\to 20 \\to 10 \\to 5 \\to 16 \\to 8 \\to 4 \\to 2 \\to 1.$</p>\n",
        "<p>It can be seen that this sequence (starting at $13$ and finishing at $1$) contains $10$ terms. Although it has not been proved yet (Collatz Problem), it is thought that all starting numbers finish at $1$.</p>\n",
        "<p>Which starting number, under one million, produces the longest chain?</p>\n",
        "<p class=\"note\"><b>NOTE:</b> Once the chain starts the terms are allowed to go above one million.</p>\n",
        ":::\n",
        "\n",
        "### Julia\n"
      ],
      "id": "bc74be5a"
    },
    {
      "cell_type": "code",
      "metadata": {},
      "source": [
        "function collatz(n::Integer)\n",
        "    seq = BigInt[]\n",
        "\n",
        "    s = BigInt(n)\n",
        "\n",
        "    while s > 1\n",
        "        push!(seq, s)\n",
        "\n",
        "        if s % 2 == 0\n",
        "            s = div(s, 2)\n",
        "        else\n",
        "            s = 3*s + 1\n",
        "        end\n",
        "    end \n",
        "\n",
        "    push!(seq, 1)\n",
        "    \n",
        "    return seq\n",
        "end"
      ],
      "id": "51e18d1b",
      "execution_count": null,
      "outputs": []
    },
    {
      "cell_type": "code",
      "metadata": {},
      "source": [
        "function p14()\n",
        "\n",
        "    n, max_chain_length = 1, 1\n",
        "\n",
        "    for i ∈ 1:999_999\n",
        "        c = collatz(i)\n",
        "        l = length(c)\n",
        "\n",
        "        if l > max_chain_length\n",
        "            n, max_chain_length = i, l\n",
        "        end\n",
        "    end\n",
        "\n",
        "    return \"The biggest chain starts in $n and has $max_chain_length\"\n",
        "end;\n",
        "\n",
        "p14()"
      ],
      "id": "2a3fa0b0",
      "execution_count": null,
      "outputs": []
    },
    {
      "cell_type": "code",
      "metadata": {},
      "source": [
        "using BenchmarkTools;\n",
        "@benchmark p14()"
      ],
      "id": "9614a952",
      "execution_count": null,
      "outputs": []
    }
  ],
  "metadata": {
    "kernelspec": {
      "name": "julia-1.9",
      "language": "julia",
      "display_name": "Julia 1.9.2"
    }
  },
  "nbformat": 4,
  "nbformat_minor": 5
}